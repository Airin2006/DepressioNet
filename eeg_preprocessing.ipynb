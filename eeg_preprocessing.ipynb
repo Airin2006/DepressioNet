{
  "nbformat": 4,
  "nbformat_minor": 0,
  "metadata": {
    "colab": {
      "provenance": [],
      "toc_visible": true
    },
    "kernelspec": {
      "name": "python3",
      "display_name": "Python 3"
    },
    "language_info": {
      "name": "python"
    }
  },
  "cells": [
    {
      "cell_type": "code",
      "execution_count": null,
      "metadata": {
        "id": "qYi5QS6itfg6"
      },
      "outputs": [],
      "source": [
        "! pip install -q mne\n",
        "! pip install -q mne_icalabel\n",
        "! pip install -q EDFlib-Python"
      ]
    },
    {
      "cell_type": "code",
      "source": [
        "!unzip /content/drive/MyDrive/EEG_project/eeg_depression_raw.zip -d eeg_depression ##put your data path"
      ],
      "metadata": {
        "id": "FRdn4ElVMWEA"
      },
      "execution_count": null,
      "outputs": []
    },
    {
      "cell_type": "code",
      "source": [
        "!mkdir /content/drive/MyDrive/EEG_project/depression/eeg_preprocessed_new"
      ],
      "metadata": {
        "id": "yGNQ68aEO8UX"
      },
      "execution_count": null,
      "outputs": []
    },
    {
      "cell_type": "code",
      "source": [
        "!mkdir /content/drive/MyDrive/EEG_project/depression/raw_signal\n",
        "!mkdir /content/drive/MyDrive/EEG_project/depression/cleaned_signal"
      ],
      "metadata": {
        "id": "ci1xVVfrq4n-"
      },
      "execution_count": null,
      "outputs": []
    },
    {
      "cell_type": "code",
      "source": [
        "import os\n",
        "import numpy as np\n",
        "import pandas as pd\n",
        "from tqdm import tqdm\n",
        "\n",
        "import mne\n",
        "from mne.preprocessing import ICA\n",
        "from mne_icalabel.iclabel import iclabel_label_components, get_iclabel_features\n",
        "\n",
        "import matplotlib.pyplot as plt\n",
        "import seaborn as sns\n",
        "import re"
      ],
      "metadata": {
        "id": "pca7IQAxMeSf"
      },
      "execution_count": null,
      "outputs": []
    },
    {
      "cell_type": "code",
      "source": [
        "channels = ['EEG Fp1-LE','EEG F3-LE','EEG C3-LE', 'EEG P3-LE', 'EEG O1-LE', 'EEG F7-LE', 'EEG T3-LE', 'EEG T5-LE', 'EEG Fp2-LE', 'EEG F4-LE', 'EEG C4-LE', 'EEG P4-LE',\n",
        "                   'EEG O2-LE', 'EEG F8-LE', 'EEG T4-LE', 'EEG T6-LE', 'EEG Fz-LE', 'EEG Cz-LE', 'EEG Pz-LE']\n",
        "renamed_chann = [x.split('-')[0].split(' ')[1] for x in channels]\n",
        "\n",
        "chann_map = {channels[i]: renamed_chann[i] for i in range(len(channels))}"
      ],
      "metadata": {
        "id": "pxyN2GuPMguG"
      },
      "execution_count": null,
      "outputs": []
    },
    {
      "cell_type": "code",
      "source": [
        "for f in tqdm(os.listdir('/content/eeg_depression')):\n",
        "  fp = '/content/eeg_depression/'+f\n",
        "  num = int(re.findall(r'\\d+', f)[-1])\n",
        "  num_str = str(num//10)+str(num%10)\n",
        "  if \"MDD\" in f:\n",
        "    group=\"MDD\"\n",
        "  else:\n",
        "    group=\"HC\"\n",
        "  if \"EC\" in f:\n",
        "    cond = \"EC\"\n",
        "  elif \"EO\" in f:\n",
        "    cond = \"EO\"\n",
        "  else:\n",
        "    continue\n",
        "  preprocessed_name = group+'_S'+num_str+'_'+cond\n",
        "  preprocessed_fname = '/content/drive/MyDrive/EEG_project/depression/eeg_preprocessed_new/'+preprocessed_name+'.edf'\n",
        "\n",
        "  raw = mne.io.read_raw_edf(fp, preload=True, verbose=False)\n",
        "  raw.pick_channels(channels, ordered=True)\n",
        "  raw.rename_channels(chann_map)\n",
        "  raw.set_montage(\"standard_1005\", match_case=False, on_missing='warn')\n",
        "\n",
        "  raw.filter(l_freq=0.5, h_freq=70, verbose=False)\n",
        "  raw.notch_filter(50, verbose=False)\n",
        "  raw.crop(10, include_tmax=False)\n",
        "\n",
        "  ica = ICA(n_components=19, max_iter='auto', random_state=97)\n",
        "  ica.fit(raw)\n",
        "\n",
        "  # ica.plot_sources(raw);\n",
        "  # ica.plot_components();\n",
        "\n",
        "  ic_map = {0:'Brain',1:'Muscle', 2:'Eye', 3:'Heart', 4:'Line Noise', 5:'Channel Noise', 6:'Other'}\n",
        "  label = np.argmax(iclabel_label_components(raw, ica), axis=1)\n",
        "  label_class = [ic_map[label[i]] for i in range(len(label))]\n",
        "  print(label_class)\n",
        "\n",
        "  ex = np.where(label!=0)[0].tolist()\n",
        "  print(ex)\n",
        "\n",
        "  ica.exclude = ex\n",
        "\n",
        "  reconst_raw = raw.copy()\n",
        "  ica.apply(reconst_raw)\n",
        "\n",
        "  fig1 = raw.plot(start=100);\n",
        "  fig2 = reconst_raw.plot(start=100);\n",
        "\n",
        "  fig1.savefig('/content/drive/MyDrive/EEG_project/depression/raw_signal/raw_'+preprocessed_name+'.jpg')\n",
        "  fig2.savefig('/content/drive/MyDrive/EEG_project/depression/cleaned_signal/cleaned_'+preprocessed_name+'.jpg')\n",
        "\n",
        "\n",
        "  mne.export.export_raw(preprocessed_fname, reconst_raw, overwrite=True, verbose=False)"
      ],
      "metadata": {
        "id": "0Ebdz6KFeO3H"
      },
      "execution_count": null,
      "outputs": []
    }
  ]
}